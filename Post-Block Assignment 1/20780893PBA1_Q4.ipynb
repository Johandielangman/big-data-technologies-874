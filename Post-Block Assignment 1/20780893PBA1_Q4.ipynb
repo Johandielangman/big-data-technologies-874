{
  "nbformat": 4,
  "nbformat_minor": 0,
  "metadata": {
    "colab": {
      "name": "20780893PBA1_Q4.ipynb",
      "provenance": []
    },
    "kernelspec": {
      "name": "python3",
      "display_name": "Python 3"
    },
    "language_info": {
      "name": "python"
    }
  },
  "cells": [
    {
      "cell_type": "markdown",
      "metadata": {
        "id": "N5jgS9T4DoWA"
      },
      "source": [
        "***\n",
        "# Post-Block Assignment 1\n",
        "***\n",
        "Johan Hanekom <br>\n",
        "20780893 <br>\n",
        "16/11/2021\n",
        "***\n",
        "## Setup"
      ]
    },
    {
      "cell_type": "code",
      "metadata": {
        "colab": {
          "base_uri": "https://localhost:8080/"
        },
        "id": "u8_p18MxDwqT",
        "outputId": "22bacea4-f704-4e43-df69-cba521d79db3"
      },
      "source": [
        "# Run and print a shell command.\n",
        "def run(cmd):\n",
        "  print('>> {}'.format(cmd))\n",
        "  !{cmd}\n",
        "  print('')\n",
        "\n",
        "run('pip install --upgrade pip')\n",
        "\n",
        "# Install apache-beam.\n",
        "run('pip install --quiet apache-beam')\n",
        "\n",
        "# Copy the input file into the local file system.\n",
        "run('mkdir -p data')\n"
      ],
      "execution_count": 1,
      "outputs": [
        {
          "output_type": "stream",
          "name": "stdout",
          "text": [
            ">> pip install --upgrade pip\n",
            "Requirement already satisfied: pip in /usr/local/lib/python3.7/dist-packages (21.3.1)\n",
            "\u001b[33mWARNING: Running pip as the 'root' user can result in broken permissions and conflicting behaviour with the system package manager. It is recommended to use a virtual environment instead: https://pip.pypa.io/warnings/venv\u001b[0m\n",
            "\n",
            ">> pip install --quiet apache-beam\n",
            "\u001b[33mWARNING: Running pip as the 'root' user can result in broken permissions and conflicting behaviour with the system package manager. It is recommended to use a virtual environment instead: https://pip.pypa.io/warnings/venv\u001b[0m\n",
            "\n",
            ">> mkdir -p data\n",
            "\n"
          ]
        }
      ]
    },
    {
      "cell_type": "markdown",
      "metadata": {
        "id": "iFdV_oYqEheT"
      },
      "source": [
        "# Import libraries"
      ]
    },
    {
      "cell_type": "code",
      "metadata": {
        "id": "jFZw4AjAElDZ"
      },
      "source": [
        "import apache_beam as beam\n",
        "import re\n",
        "from apache_beam.runners.interactive.interactive_runner import InteractiveRunner\n",
        "import apache_beam.runners.interactive.interactive_beam as ib\n",
        "import pandas as pd\n",
        "\n",
        "from apache_beam import Create, FlatMap, Map, ParDo, Flatten, Partition\n",
        "from apache_beam import Values, CoGroupByKey\n",
        "from apache_beam import pvalue, window, WindowInto\n",
        "from datetime import datetime"
      ],
      "execution_count": 2,
      "outputs": []
    },
    {
      "cell_type": "markdown",
      "metadata": {
        "id": "jnfEZrMBEoUY"
      },
      "source": [
        "# Read in the data"
      ]
    },
    {
      "cell_type": "code",
      "metadata": {
        "colab": {
          "base_uri": "https://localhost:8080/"
        },
        "id": "Mlx9oS21E2V0",
        "outputId": "870835e5-5ca3-40b1-c4b0-52e25a27edbe"
      },
      "source": [
        "! curl -o data/users_v.csv https://storage.googleapis.com/bdt-beam/users_v.csv"
      ],
      "execution_count": 3,
      "outputs": [
        {
          "output_type": "stream",
          "name": "stdout",
          "text": [
            "  % Total    % Received % Xferd  Average Speed   Time    Time     Time  Current\n",
            "                                 Dload  Upload   Total   Spent    Left  Speed\n",
            "\r  0     0    0     0    0     0      0      0 --:--:-- --:--:-- --:--:--     0\r100  140k  100  140k    0     0  7794k      0 --:--:-- --:--:-- --:--:-- 7794k\n"
          ]
        }
      ]
    },
    {
      "cell_type": "code",
      "metadata": {
        "colab": {
          "base_uri": "https://localhost:8080/"
        },
        "id": "iC29YydwE45E",
        "outputId": "ab3ae360-9266-41c5-a8c9-ab4d3a3297ce"
      },
      "source": [
        "! curl -o data/orders_v.csv https://storage.googleapis.com/bdt-beam/orders_v.csv"
      ],
      "execution_count": 4,
      "outputs": [
        {
          "output_type": "stream",
          "name": "stdout",
          "text": [
            "  % Total    % Received % Xferd  Average Speed   Time    Time     Time  Current\n",
            "                                 Dload  Upload   Total   Spent    Left  Speed\n",
            "100 36.0M  100 36.0M    0     0  36.0M      0  0:00:01  0:00:01 --:--:-- 36.0M\n"
          ]
        }
      ]
    },
    {
      "cell_type": "code",
      "metadata": {
        "colab": {
          "base_uri": "https://localhost:8080/"
        },
        "id": "q-EN4uLcItXg",
        "outputId": "57543fac-dd7b-48f3-f31d-6668054b98fc"
      },
      "source": [
        "# What columns are in users?\n",
        "! cat data/users_v.csv | head"
      ],
      "execution_count": 5,
      "outputs": [
        {
          "output_type": "stream",
          "name": "stdout",
          "text": [
            "user_id,name,gender,age,address,date_joined\n",
            "1,Anthony Wolf,male,73,New Rachelburgh-VA-49583,2019/03/13\n",
            "2,James Armstrong,male,56,North Jillianfort-UT-86454,2020/11/06\n",
            "3,Cody Shaw,male,75,North Anne-SC-53799,2004/05/29\n",
            "4,Sierra Hamilton,female,76,New Angelafurt-ME-46190,2005/08/26\n",
            "5,Chase Davis,male,31,South Bethmouth-WI-18562,2018/04/30\n",
            "6,Sierra Andrews,female,21,Ryanville-MI-69690,2007/05/25\n",
            "7,Ann Stone,female,41,Smithmouth-SD-17340,2005/01/05\n",
            "8,Karen Santos,female,34,Mariaville-AK-29888,2003/12/12\n",
            "9,Ronald Meyer,male,41,North Cherylhaven-NJ-04197,2015/11/14\n"
          ]
        }
      ]
    },
    {
      "cell_type": "code",
      "metadata": {
        "colab": {
          "base_uri": "https://localhost:8080/"
        },
        "id": "6EFLp9ZTYVSI",
        "outputId": "5f98b63b-5929-46a2-9ce6-971aeb579eeb"
      },
      "source": [
        "# What columns are in orders?\n",
        "! cat data/orders_v.csv | head"
      ],
      "execution_count": 6,
      "outputs": [
        {
          "output_type": "stream",
          "name": "stdout",
          "text": [
            "order_no,user_id,product_list,date_purchased\n",
            "1000,1887,Cassava,2000-01-01\n",
            "1001,838,\"Calabash, Water Spinach\",2000-01-01\n",
            "1002,2032,\"Onion, Rapini\",2000-01-01\n",
            "1003,1482,\"Swiss Chard, Artichoke\",2000-01-01\n",
            "1004,475,\"Turnip Greens, Plantain\",2000-01-01\n",
            "1005,1627,\"English Cucumber, Parsley Root, Cauliflower\",2000-01-01\n",
            "1006,2000,\"Bell Pepper, English Cucumber\",2000-01-01\n",
            "1007,2099,Arugula,2000-01-01\n",
            "1008,2337,\"Shallots, Jerusalem Artichoke\",2000-01-01\n"
          ]
        }
      ]
    },
    {
      "cell_type": "code",
      "metadata": {
        "id": "U2gw9WutI5RN"
      },
      "source": [
        "# Create smaller users data\n",
        "! head -100 data/users_v.csv > data/small_users.csv\n",
        "\n",
        "# Create smalledr orders data\n",
        "! head -100 data/orders_v.csv > data/small_orders.csv"
      ],
      "execution_count": 7,
      "outputs": []
    },
    {
      "cell_type": "markdown",
      "metadata": {
        "id": "BPjzxhFPFJ5Y"
      },
      "source": [
        "# Question 4\n",
        "## Question 4.1\n",
        "Merge the 2 input files. [3]\n",
        "### Define the functions"
      ]
    },
    {
      "cell_type": "code",
      "metadata": {
        "id": "VXO9_gfeFNfF"
      },
      "source": [
        "class format_users(beam.DoFn):\n",
        "    def process(self, element):\n",
        "        user_id, name, gender, age, address, date_joined= element.split(\",\")\n",
        "        return [{\n",
        "            \"user_id\": str(user_id),\n",
        "            \"name\": str(name),\n",
        "            \"gender\": str(gender),\n",
        "            \"age\": str(age),\n",
        "            \"address\": str(address.replace(\"-\", \";\")),\n",
        "            \"date_joined\": str(date_joined.replace(\"/\", \"-\"))\n",
        "        }]\n",
        "     \n",
        "class format_orders(beam.DoFn):\n",
        "    def process(self, element):\n",
        "        words = element.split(\",\")\n",
        "        order_id = words[0]\n",
        "        user_id = words[1]\n",
        "        date_purchased = words[-1]\n",
        "        product_array = words[2:-1]\n",
        "\n",
        "        sent_str = \"\"\n",
        "        for i in product_array:\n",
        "            sent_str += str(i) + \";\"\n",
        "        sent_str = sent_str[:-1]\n",
        "\n",
        "        product_list = sent_str\n",
        "        return [{\n",
        "            \"user_id\": str(user_id),\n",
        "            \"order_id\": str(order_id),\n",
        "            \"product_list\": str(product_list),\n",
        "            \"date_purchased\": str(date_purchased.replace(\"/\", \"-\"))\n",
        "        }]\n",
        "\n",
        "\n",
        "class ToCsv(beam.DoFn):\n",
        "\n",
        "    def process(self, element):\n",
        "      yield ','.join(dict(element).values())\n"
      ],
      "execution_count": 8,
      "outputs": []
    },
    {
      "cell_type": "markdown",
      "metadata": {
        "id": "ri2iGOfCFRBJ"
      },
      "source": [
        "### Define Pipeline"
      ]
    },
    {
      "cell_type": "code",
      "metadata": {
        "colab": {
          "base_uri": "https://localhost:8080/",
          "height": 129
        },
        "id": "jVp0LsN-XRnN",
        "outputId": "f85008dd-9f4c-4ef0-e45a-7d4eba1e0ee8"
      },
      "source": [
        "with beam.Pipeline() as pipeline:\n",
        "  orders_collection = (pipeline | \"Read Orders\" >> beam.io.ReadFromText('data/orders_v.csv', skip_header_lines=0)\n",
        "                        | \"Format Orders\" >> ParDo(format_orders())\n",
        "                        | \"to_csv orders\" >> beam.ParDo(ToCsv())\n",
        "                        | \"Save orders\" >> beam.io.WriteToText(\"data/orders_cleaned.csv\")\n",
        "                        )\n",
        "  \n",
        "with beam.Pipeline() as pipeline:\n",
        "  users_collection = (pipeline | \"Read Users\" >> beam.io.ReadFromText('data/users_v.csv', skip_header_lines=0)\n",
        "                        | \"Format Users\" >> ParDo(format_users())\n",
        "                        | \"to_csv users\" >> beam.ParDo(ToCsv())\n",
        "                        | \"Save users\" >> beam.io.WriteToText(\"data/users_cleaned.csv\")\n",
        "                        )\n",
        "\n"
      ],
      "execution_count": 9,
      "outputs": [
        {
          "output_type": "stream",
          "name": "stderr",
          "text": [
            "WARNING:apache_beam.runners.interactive.interactive_environment:Dependencies required for Interactive Beam PCollection visualization are not available, please use: `pip install apache-beam[interactive]` to install necessary dependencies to enable all data visualization features.\n"
          ]
        },
        {
          "output_type": "display_data",
          "data": {
            "application/javascript": [
              "\n",
              "        if (typeof window.interactive_beam_jquery == 'undefined') {\n",
              "          var jqueryScript = document.createElement('script');\n",
              "          jqueryScript.src = 'https://code.jquery.com/jquery-3.4.1.slim.min.js';\n",
              "          jqueryScript.type = 'text/javascript';\n",
              "          jqueryScript.onload = function() {\n",
              "            var datatableScript = document.createElement('script');\n",
              "            datatableScript.src = 'https://cdn.datatables.net/1.10.20/js/jquery.dataTables.min.js';\n",
              "            datatableScript.type = 'text/javascript';\n",
              "            datatableScript.onload = function() {\n",
              "              window.interactive_beam_jquery = jQuery.noConflict(true);\n",
              "              window.interactive_beam_jquery(document).ready(function($){\n",
              "                \n",
              "              });\n",
              "            }\n",
              "            document.head.appendChild(datatableScript);\n",
              "          };\n",
              "          document.head.appendChild(jqueryScript);\n",
              "        } else {\n",
              "          window.interactive_beam_jquery(document).ready(function($){\n",
              "            \n",
              "          });\n",
              "        }"
            ]
          },
          "metadata": {}
        },
        {
          "output_type": "stream",
          "name": "stderr",
          "text": [
            "WARNING:root:Make sure that locally built Python SDK docker image has Python 3.7 interpreter.\n",
            "WARNING:apache_beam.io.filebasedsink:Deleting 1 existing files in target path matching: -*-of-%(num_shards)05d\n",
            "WARNING:root:Make sure that locally built Python SDK docker image has Python 3.7 interpreter.\n",
            "WARNING:apache_beam.io.filebasedsink:Deleting 1 existing files in target path matching: -*-of-%(num_shards)05d\n"
          ]
        }
      ]
    },
    {
      "cell_type": "code",
      "metadata": {
        "id": "6De5QzP4iTi5",
        "colab": {
          "base_uri": "https://localhost:8080/"
        },
        "outputId": "be9207de-4dc2-4a4a-f7df-befd52944103"
      },
      "source": [
        "! ls data"
      ],
      "execution_count": 10,
      "outputs": [
        {
          "output_type": "stream",
          "name": "stdout",
          "text": [
            "merged.csv\t\t\t   small_orders.csv\n",
            "orders_cleaned.csv-00000-of-00001  small_users.csv\n",
            "orders_v.csv\t\t\t   users_cleaned.csv-00000-of-00001\n",
            "small_data.csv\t\t\t   users_v.csv\n"
          ]
        }
      ]
    },
    {
      "cell_type": "markdown",
      "metadata": {
        "id": "5yGSgkjNlp3x"
      },
      "source": [
        "### Join via pandas\n",
        "\n",
        "I really can't figure out how to join the two..."
      ]
    },
    {
      "cell_type": "code",
      "metadata": {
        "id": "0QgwK2ielttV"
      },
      "source": [
        "df_users = pd.read_csv(\"data/users_cleaned.csv-00000-of-00001\", header = 0,names = ['user_id', 'name', 'gender', 'age', 'address', 'date_joined'])\n",
        "df_orders = pd.read_csv(\"data/orders_cleaned.csv-00000-of-00001\", header = 0,names = ['user_id','order_no','product_list','date_purchased'])"
      ],
      "execution_count": 11,
      "outputs": []
    },
    {
      "cell_type": "code",
      "metadata": {
        "colab": {
          "base_uri": "https://localhost:8080/",
          "height": 80
        },
        "id": "KmzoZ_3dqO1E",
        "outputId": "4fbca8b9-8fa2-4ffb-b25b-9dad4dd704f2"
      },
      "source": [
        "df_orders.head(1)"
      ],
      "execution_count": 12,
      "outputs": [
        {
          "output_type": "execute_result",
          "data": {
            "text/html": [
              "<div>\n",
              "<style scoped>\n",
              "    .dataframe tbody tr th:only-of-type {\n",
              "        vertical-align: middle;\n",
              "    }\n",
              "\n",
              "    .dataframe tbody tr th {\n",
              "        vertical-align: top;\n",
              "    }\n",
              "\n",
              "    .dataframe thead th {\n",
              "        text-align: right;\n",
              "    }\n",
              "</style>\n",
              "<table border=\"1\" class=\"dataframe\">\n",
              "  <thead>\n",
              "    <tr style=\"text-align: right;\">\n",
              "      <th></th>\n",
              "      <th>user_id</th>\n",
              "      <th>order_no</th>\n",
              "      <th>product_list</th>\n",
              "      <th>date_purchased</th>\n",
              "    </tr>\n",
              "  </thead>\n",
              "  <tbody>\n",
              "    <tr>\n",
              "      <th>0</th>\n",
              "      <td>1887</td>\n",
              "      <td>1000</td>\n",
              "      <td>Cassava</td>\n",
              "      <td>2000-01-01</td>\n",
              "    </tr>\n",
              "  </tbody>\n",
              "</table>\n",
              "</div>"
            ],
            "text/plain": [
              "   user_id  order_no product_list date_purchased\n",
              "0     1887      1000      Cassava     2000-01-01"
            ]
          },
          "metadata": {},
          "execution_count": 12
        }
      ]
    },
    {
      "cell_type": "code",
      "metadata": {
        "colab": {
          "base_uri": "https://localhost:8080/",
          "height": 80
        },
        "id": "YBuzG4IPqQpJ",
        "outputId": "c3c07fe0-9200-4005-8ba9-0414a1a0a5b7"
      },
      "source": [
        "df_users.head(1)"
      ],
      "execution_count": 13,
      "outputs": [
        {
          "output_type": "execute_result",
          "data": {
            "text/html": [
              "<div>\n",
              "<style scoped>\n",
              "    .dataframe tbody tr th:only-of-type {\n",
              "        vertical-align: middle;\n",
              "    }\n",
              "\n",
              "    .dataframe tbody tr th {\n",
              "        vertical-align: top;\n",
              "    }\n",
              "\n",
              "    .dataframe thead th {\n",
              "        text-align: right;\n",
              "    }\n",
              "</style>\n",
              "<table border=\"1\" class=\"dataframe\">\n",
              "  <thead>\n",
              "    <tr style=\"text-align: right;\">\n",
              "      <th></th>\n",
              "      <th>user_id</th>\n",
              "      <th>name</th>\n",
              "      <th>gender</th>\n",
              "      <th>age</th>\n",
              "      <th>address</th>\n",
              "      <th>date_joined</th>\n",
              "    </tr>\n",
              "  </thead>\n",
              "  <tbody>\n",
              "    <tr>\n",
              "      <th>0</th>\n",
              "      <td>1</td>\n",
              "      <td>Anthony Wolf</td>\n",
              "      <td>male</td>\n",
              "      <td>73</td>\n",
              "      <td>New Rachelburgh;VA;49583</td>\n",
              "      <td>2019-03-13</td>\n",
              "    </tr>\n",
              "  </tbody>\n",
              "</table>\n",
              "</div>"
            ],
            "text/plain": [
              "   user_id          name gender  age                   address date_joined\n",
              "0        1  Anthony Wolf   male   73  New Rachelburgh;VA;49583  2019-03-13"
            ]
          },
          "metadata": {},
          "execution_count": 13
        }
      ]
    },
    {
      "cell_type": "code",
      "metadata": {
        "colab": {
          "base_uri": "https://localhost:8080/"
        },
        "id": "Z30ybzMwxMqR",
        "outputId": "3d658ec5-bd4f-4ab2-c927-146ad34f232e"
      },
      "source": [
        "len(df_orders)"
      ],
      "execution_count": 14,
      "outputs": [
        {
          "output_type": "execute_result",
          "data": {
            "text/plain": [
              "806193"
            ]
          },
          "metadata": {},
          "execution_count": 14
        }
      ]
    },
    {
      "cell_type": "code",
      "metadata": {
        "colab": {
          "base_uri": "https://localhost:8080/"
        },
        "id": "m2YxhTiNxQI0",
        "outputId": "427d1169-7d38-4f10-b2c3-acb343581720"
      },
      "source": [
        "len(df_users)"
      ],
      "execution_count": 15,
      "outputs": [
        {
          "output_type": "execute_result",
          "data": {
            "text/plain": [
              "2357"
            ]
          },
          "metadata": {},
          "execution_count": 15
        }
      ]
    },
    {
      "cell_type": "code",
      "metadata": {
        "colab": {
          "base_uri": "https://localhost:8080/",
          "height": 143
        },
        "id": "NKMNUIbVvLDj",
        "outputId": "8d716f03-7d58-4fcd-8b80-9abee4764904"
      },
      "source": [
        "# df_mergded = pd.merge(df_users,df_orders,on='user_id')\n",
        "df_merge= pd.merge(df_orders,df_users,on='user_id')\n",
        "df_merge.head(3)"
      ],
      "execution_count": 16,
      "outputs": [
        {
          "output_type": "execute_result",
          "data": {
            "text/html": [
              "<div>\n",
              "<style scoped>\n",
              "    .dataframe tbody tr th:only-of-type {\n",
              "        vertical-align: middle;\n",
              "    }\n",
              "\n",
              "    .dataframe tbody tr th {\n",
              "        vertical-align: top;\n",
              "    }\n",
              "\n",
              "    .dataframe thead th {\n",
              "        text-align: right;\n",
              "    }\n",
              "</style>\n",
              "<table border=\"1\" class=\"dataframe\">\n",
              "  <thead>\n",
              "    <tr style=\"text-align: right;\">\n",
              "      <th></th>\n",
              "      <th>user_id</th>\n",
              "      <th>order_no</th>\n",
              "      <th>product_list</th>\n",
              "      <th>date_purchased</th>\n",
              "      <th>name</th>\n",
              "      <th>gender</th>\n",
              "      <th>age</th>\n",
              "      <th>address</th>\n",
              "      <th>date_joined</th>\n",
              "    </tr>\n",
              "  </thead>\n",
              "  <tbody>\n",
              "    <tr>\n",
              "      <th>0</th>\n",
              "      <td>1887</td>\n",
              "      <td>1000</td>\n",
              "      <td>Cassava</td>\n",
              "      <td>2000-01-01</td>\n",
              "      <td>Andrea Hartman</td>\n",
              "      <td>female</td>\n",
              "      <td>58</td>\n",
              "      <td>Karenmouth;MN;95314</td>\n",
              "      <td>2016-07-06</td>\n",
              "    </tr>\n",
              "    <tr>\n",
              "      <th>1</th>\n",
              "      <td>1887</td>\n",
              "      <td>1356</td>\n",
              "      <td>Bitter Melon; Turnip; Water Chestnut</td>\n",
              "      <td>2000-01-04</td>\n",
              "      <td>Andrea Hartman</td>\n",
              "      <td>female</td>\n",
              "      <td>58</td>\n",
              "      <td>Karenmouth;MN;95314</td>\n",
              "      <td>2016-07-06</td>\n",
              "    </tr>\n",
              "    <tr>\n",
              "      <th>2</th>\n",
              "      <td>1887</td>\n",
              "      <td>2151</td>\n",
              "      <td>English Cucumber; Plantain; Taro</td>\n",
              "      <td>2000-01-12</td>\n",
              "      <td>Andrea Hartman</td>\n",
              "      <td>female</td>\n",
              "      <td>58</td>\n",
              "      <td>Karenmouth;MN;95314</td>\n",
              "      <td>2016-07-06</td>\n",
              "    </tr>\n",
              "  </tbody>\n",
              "</table>\n",
              "</div>"
            ],
            "text/plain": [
              "   user_id  order_no  ...              address date_joined\n",
              "0     1887      1000  ...  Karenmouth;MN;95314  2016-07-06\n",
              "1     1887      1356  ...  Karenmouth;MN;95314  2016-07-06\n",
              "2     1887      2151  ...  Karenmouth;MN;95314  2016-07-06\n",
              "\n",
              "[3 rows x 9 columns]"
            ]
          },
          "metadata": {},
          "execution_count": 16
        }
      ]
    },
    {
      "cell_type": "code",
      "metadata": {
        "colab": {
          "base_uri": "https://localhost:8080/"
        },
        "id": "yGK4L4jDVW-m",
        "outputId": "6ef8a12d-3499-494c-d856-093831430288"
      },
      "source": [
        "df_merge[\"product_list\"]"
      ],
      "execution_count": 17,
      "outputs": [
        {
          "output_type": "execute_result",
          "data": {
            "text/plain": [
              "0                                      Cassava\n",
              "1         Bitter Melon; Turnip; Water Chestnut\n",
              "2             English Cucumber; Plantain; Taro\n",
              "3                        Bell Pepper; Shallots\n",
              "4                   Watercress; Hearts of Palm\n",
              "                          ...                 \n",
              "806188                    Grape Leaves; Tomato\n",
              "806189        Peppers; Hearts of Palm; Parsnip\n",
              "806190                        Avocado; Spinach\n",
              "806191                       Lettuce; Purslane\n",
              "806192                            Okra; Garlic\n",
              "Name: product_list, Length: 806193, dtype: object"
            ]
          },
          "metadata": {},
          "execution_count": 17
        }
      ]
    },
    {
      "cell_type": "code",
      "metadata": {
        "id": "uh5rZwfLy2K6"
      },
      "source": [
        "# Save\n",
        "df_merge.to_csv(\"data/merged.csv\", index = False)"
      ],
      "execution_count": 18,
      "outputs": []
    },
    {
      "cell_type": "markdown",
      "metadata": {
        "id": "uN5sqMvWZg6k"
      },
      "source": [
        "## Question 4.2\n",
        "Perform a transformation that determines the average number of orders for female and male customers,\n",
        "respectively."
      ]
    },
    {
      "cell_type": "markdown",
      "metadata": {
        "id": "kb2HXEWPzf3Q"
      },
      "source": [
        "### Create a sample for testing"
      ]
    },
    {
      "cell_type": "code",
      "metadata": {
        "colab": {
          "base_uri": "https://localhost:8080/"
        },
        "id": "QdhhR15szoQG",
        "outputId": "74309c4f-abf9-4392-9382-e6aee2293a1a"
      },
      "source": [
        "# Create smaller users data\n",
        "! head -1000 data/merged.csv > data/small_data.csv\n",
        "! cat data/small_data.csv | head"
      ],
      "execution_count": 19,
      "outputs": [
        {
          "output_type": "stream",
          "name": "stdout",
          "text": [
            "user_id,order_no,product_list,date_purchased,name,gender,age,address,date_joined\n",
            "1887,1000,Cassava,2000-01-01,Andrea Hartman,female,58,Karenmouth;MN;95314,2016-07-06\n",
            "1887,1356,Bitter Melon; Turnip; Water Chestnut,2000-01-04,Andrea Hartman,female,58,Karenmouth;MN;95314,2016-07-06\n",
            "1887,2151,English Cucumber; Plantain; Taro,2000-01-12,Andrea Hartman,female,58,Karenmouth;MN;95314,2016-07-06\n",
            "1887,3075,Bell Pepper; Shallots,2000-01-20,Andrea Hartman,female,58,Karenmouth;MN;95314,2016-07-06\n",
            "1887,5406,Watercress; Hearts of Palm,2000-02-11,Andrea Hartman,female,58,Karenmouth;MN;95314,2016-07-06\n",
            "1887,7815,Swiss Chard; Fiddlehead; Fennel,2000-03-11,Andrea Hartman,female,58,Karenmouth;MN;95314,2016-07-06\n",
            "1887,11147,Tomato; Mustard Greens; Lotus Seed; Grape Leaves,2000-04-12,Andrea Hartman,female,58,Karenmouth;MN;95314,2016-07-06\n",
            "1887,15456,Fennel,2000-05-26,Andrea Hartman,female,58,Karenmouth;MN;95314,2016-07-06\n",
            "1887,16842,Celtuce; Cabbage,2000-06-03,Andrea Hartman,female,58,Karenmouth;MN;95314,2016-07-06\n"
          ]
        }
      ]
    },
    {
      "cell_type": "code",
      "metadata": {
        "id": "szilySdcp-PW"
      },
      "source": [
        ""
      ],
      "execution_count": 19,
      "outputs": []
    },
    {
      "cell_type": "markdown",
      "metadata": {
        "id": "I1_dQc_w2UXJ"
      },
      "source": [
        "## Define pipelines"
      ]
    },
    {
      "cell_type": "code",
      "metadata": {
        "colab": {
          "base_uri": "https://localhost:8080/"
        },
        "id": "zdfLM6lt2V3m",
        "outputId": "4330f048-855a-4113-ee9b-bb7af3a0acba"
      },
      "source": [
        "header = ['user_id','order_no','product_list','date_purchased','name','gender','age','address','date_joined']\n",
        "\n",
        "class Transform(beam.DoFn):\n",
        "\n",
        "  def process(self, element):\n",
        "    # data = dict(zip(header, element.split(',')))\n",
        "    row_list =  element.split(',')\n",
        "    yield [row_list[0],row_list[1],row_list[5]]\n",
        "\n",
        "\n",
        "with beam.Pipeline() as pipeline:\n",
        "  (pipeline \n",
        "      | 'Read lines' >> beam.io.ReadFromText('data/merged.csv', skip_header_lines=1)\n",
        "      | 'format' >> beam.ParDo(Transform())\n",
        "      | beam.GroupBy(lambda s: s[0])\n",
        "      | 'add_key' >> beam.Map(lambda elem: (elem[1][0][2], len(elem[1])) )\n",
        "      | 'sum' >> beam.combiners.Mean.PerKey()\n",
        "      | beam.Map(print)\n",
        "  )"
      ],
      "execution_count": 20,
      "outputs": [
        {
          "output_type": "stream",
          "name": "stderr",
          "text": [
            "WARNING:root:Make sure that locally built Python SDK docker image has Python 3.7 interpreter.\n"
          ]
        },
        {
          "output_type": "stream",
          "name": "stdout",
          "text": [
            "('female', 342.1982608695652)\n",
            "('male', 341.89312344656173)\n"
          ]
        }
      ]
    },
    {
      "cell_type": "markdown",
      "metadata": {
        "id": "w-W5DJe_DKC8"
      },
      "source": [
        "## Question 4.3\n",
        "Perform a transformation that groups users into age groups [16-26), [26-36), [36-46), [46-56), and determine the total number of orders placed by customers in each age group."
      ]
    },
    {
      "cell_type": "code",
      "metadata": {
        "colab": {
          "base_uri": "https://localhost:8080/"
        },
        "id": "SdR4NJdqDNqe",
        "outputId": "ff8eb64a-daa3-4630-8603-ada48184a58f"
      },
      "source": [
        "header = ['user_id','order_no','product_list','date_purchased','name','gender','age','address','date_joined']\n",
        "\n",
        "class Transform(beam.DoFn):\n",
        "\n",
        "  def process(self, element):\n",
        "    # data = dict(zip(header, element.split(',')))\n",
        "    row_list =  element.split(',')\n",
        "\n",
        "    age = int(row_list[6])\n",
        "    age_group = \"other\"\n",
        "\n",
        "    if (age >= 16) and (age<26):\n",
        "      age_group = \"Ages [16-26)\"\n",
        "\n",
        "    if (age >= 26) and (age<36):\n",
        "      age_group = \"Ages [26-36)\"\n",
        "\n",
        "    if (age >= 36) and (age<46):\n",
        "      age_group = \"Ages [36-46)\"\n",
        "\n",
        "    if (age >= 46) and (age<56):\n",
        "      age_group = \"Ages [46-56)\"\n",
        "\n",
        "\n",
        "    yield [row_list[0],row_list[1],age_group]\n",
        "\n",
        "\n",
        "with beam.Pipeline() as pipeline:\n",
        "  (pipeline \n",
        "      | 'Read lines' >> beam.io.ReadFromText('data/merged.csv', skip_header_lines=1)\n",
        "      | 'format' >> beam.ParDo(Transform())\n",
        "      | 'drop-header' >> beam.Filter(lambda x: x[2] != 'other')\n",
        "      | beam.GroupBy(lambda s: s[0])\n",
        "      | 'add_key' >> beam.Map(lambda elem: (elem[1][0][2], len(elem[1])) )\n",
        "      | 'sum' >> beam.CombinePerKey(sum)\n",
        "      | beam.Map(print)\n",
        "  )"
      ],
      "execution_count": 21,
      "outputs": [
        {
          "output_type": "stream",
          "name": "stderr",
          "text": [
            "WARNING:root:Make sure that locally built Python SDK docker image has Python 3.7 interpreter.\n"
          ]
        },
        {
          "output_type": "stream",
          "name": "stdout",
          "text": [
            "('Ages [26-36)', 137232)\n",
            "('Ages [46-56)', 117701)\n",
            "('Ages [36-46)', 132048)\n",
            "('Ages [16-26)', 96019)\n"
          ]
        }
      ]
    },
    {
      "cell_type": "markdown",
      "metadata": {
        "id": "1nxP8BAcQrLg"
      },
      "source": [
        "## Question 4.4"
      ]
    },
    {
      "cell_type": "code",
      "metadata": {
        "id": "ZW-X1iT6QtsL",
        "colab": {
          "base_uri": "https://localhost:8080/"
        },
        "outputId": "d09a1cd7-de15-44f0-a9cd-ea9f183adfba"
      },
      "source": [
        "'ExtractWords' >> beam.FlatMap(lambda x: re.findall(r\"\\bmale\\b|\\bfemale\\b\", x))\n",
        "\n",
        "header = ['user_id','order_no','product_list','date_purchased','name','gender','age','address','date_joined']\n",
        "\n",
        "class Transform(beam.DoFn):\n",
        "\n",
        "  def process(self, element):\n",
        "    # data = dict(zip(header, element.split(',')))\n",
        "    row_list =  element.split(',')\n",
        "\n",
        "    age = int(row_list[6])\n",
        "    products = row_list[2]\n",
        "    age_group = \"other\"\n",
        "    is_spinach = \"No\"\n",
        "\n",
        "    if \"Spinach\" in products:\n",
        "      is_spinach = \"Yes\"\n",
        "\n",
        "    if (age >= 16) and (age<26):\n",
        "      age_group = \"Ages [16-26)\"\n",
        "\n",
        "    if (age >= 26) and (age<36):\n",
        "      age_group = \"Ages [26-36)\"\n",
        "\n",
        "    if (age >= 36) and (age<46):\n",
        "      age_group = \"Ages [36-46)\"\n",
        "\n",
        "    if (age >= 46) and (age<56):\n",
        "      age_group = \"Ages [46-56)\"\n",
        "\n",
        "\n",
        "    yield [row_list[0],row_list[1],age_group, is_spinach]\n",
        "\n",
        "\n",
        "with beam.Pipeline() as pipeline:\n",
        "  (pipeline \n",
        "      | 'Read lines' >> beam.io.ReadFromText('data/merged.csv', skip_header_lines=1)\n",
        "      | 'format' >> beam.ParDo(Transform())\n",
        "      | 'drop-age' >> beam.Filter(lambda x: x[2] != 'other')\n",
        "      | 'drop-not spinach' >> beam.Filter(lambda x: x[3] != 'No')\n",
        "      | beam.GroupBy(lambda s: s[0])\n",
        "      | 'add_key' >> beam.Map(lambda elem: (elem[1][0][2], len(elem[1])) )\n",
        "      | 'sum' >> beam.CombinePerKey(sum)\n",
        "      | beam.Map(print)\n",
        "  )"
      ],
      "execution_count": 22,
      "outputs": [
        {
          "output_type": "stream",
          "name": "stderr",
          "text": [
            "WARNING:root:Make sure that locally built Python SDK docker image has Python 3.7 interpreter.\n"
          ]
        },
        {
          "output_type": "stream",
          "name": "stdout",
          "text": [
            "('Ages [26-36)', 8786)\n",
            "('Ages [46-56)', 7584)\n",
            "('Ages [36-46)', 8415)\n",
            "('Ages [16-26)', 6110)\n"
          ]
        }
      ]
    }
  ]
}